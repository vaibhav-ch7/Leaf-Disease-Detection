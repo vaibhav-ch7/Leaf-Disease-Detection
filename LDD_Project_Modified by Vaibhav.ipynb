{
  "cells": [
    {
      "cell_type": "code",
      "execution_count": null,
      "metadata": {
        "id": "toR_LNtctv5J"
      },
      "outputs": [],
      "source": [
        "!wget https://www.dropbox.com/s/241p0ooxybbkzpq/archive.zip?dl=0"
      ]
    },
    {
      "cell_type": "code",
      "source": [
        "!unzip archive.zip\\?dl\\=0.1"
      ],
      "metadata": {
        "id": "ilwSZ4kqcwSA"
      },
      "execution_count": null,
      "outputs": []
    },
    {
      "cell_type": "code",
      "execution_count": null,
      "metadata": {
        "id": "efZiI4FPt-nO"
      },
      "outputs": [],
      "source": [
        "import numpy as np\n",
        "import pandas as pd\n",
        "import matplotlib.pyplot as plt\n",
        "import os\n",
        "%pylab inline\n",
        "import matplotlib.image as mpimg\n",
        "import PIL\n",
        "from PIL import Image\n",
        "import cv2\n",
        "\n",
        "len(os.listdir(\"/content/New Plant Diseases Dataset(Augmented)/New Plant Diseases Dataset(Augmented)/train\"))"
      ]
    },
    {
      "cell_type": "code",
      "execution_count": null,
      "metadata": {
        "id": "EQGGq3UauES_"
      },
      "outputs": [],
      "source": [
        "!pip install Keras-Preprocessing\n",
        "import keras\n",
        "from keras_preprocessing.image import ImageDataGenerator, img_to_array, load_img\n",
        "from keras.applications.vgg19 import VGG19 , preprocess_input , decode_predictions"
      ]
    },
    {
      "cell_type": "code",
      "execution_count": null,
      "metadata": {
        "id": "Q-j7yH-NuLxm"
      },
      "outputs": [],
      "source": [
        "train_datagen = ImageDataGenerator(zoom_range= 0.5 ,shear_range = 0.3 ,horizontal_flip= True,preprocessing_function = preprocess_input )\n",
        "val_datagen = ImageDataGenerator(preprocessing_function = preprocess_input )"
      ]
    },
    {
      "cell_type": "code",
      "execution_count": null,
      "metadata": {
        "id": "11WE6cM1uO1K"
      },
      "outputs": [],
      "source": [
        "train = train_datagen.flow_from_directory(directory = \"/content/New Plant Diseases Dataset(Augmented)/New Plant Diseases Dataset(Augmented)/train\",target_size = (256,256),batch_size=32)\n",
        "\n",
        "val = val_datagen.flow_from_directory(directory = \"/content/New Plant Diseases Dataset(Augmented)/New Plant Diseases Dataset(Augmented)/valid\",target_size = (256,256),batch_size=32)\n",
        "\n"
      ]
    },
    {
      "cell_type": "code",
      "execution_count": null,
      "metadata": {
        "id": "uV_8MgRKuXOW"
      },
      "outputs": [],
      "source": [
        "t_img,label = train.next ()"
      ]
    },
    {
      "cell_type": "code",
      "execution_count": null,
      "metadata": {
        "id": "r554cfPhuaRI"
      },
      "outputs": [],
      "source": [
        "t_img.shape"
      ]
    },
    {
      "cell_type": "code",
      "execution_count": null,
      "metadata": {
        "id": "BmuI2rmDubXc"
      },
      "outputs": [],
      "source": [
        "def plotImage(img_arr , label ):\n",
        "\n",
        "  for im , l in zip(img_arr, label):\n",
        "    plt.figure (figsize=(5,5))\n",
        "    plt.imshow(im)\n",
        "    plt.show()\n"
      ]
    },
    {
      "cell_type": "code",
      "execution_count": null,
      "metadata": {
        "id": "E44XfkAFuhBM"
      },
      "outputs": [],
      "source": [
        "plotImage(t_img[:3], label[:3])"
      ]
    },
    {
      "cell_type": "code",
      "execution_count": null,
      "metadata": {
        "id": "Y7kxbBmbuiDV"
      },
      "outputs": [],
      "source": [
        "from keras.layers import Dense, Flatten\n",
        "from keras.models import Model\n",
        "from keras.applications.vgg19 import VGG19\n",
        "import keras"
      ]
    },
    {
      "cell_type": "code",
      "execution_count": null,
      "metadata": {
        "id": "ItQYTeQQul58"
      },
      "outputs": [],
      "source": [
        "base_model = VGG19(input_shape = (256,256,3), include_top = False )"
      ]
    },
    {
      "cell_type": "code",
      "execution_count": null,
      "metadata": {
        "id": "50Myzopuuq4n"
      },
      "outputs": [],
      "source": [
        "for layer in base_model.layers:\n",
        "  layer.trainable = False"
      ]
    },
    {
      "cell_type": "code",
      "execution_count": null,
      "metadata": {
        "id": "uVgCG6eDushn"
      },
      "outputs": [],
      "source": [
        "base_model.summary()"
      ]
    },
    {
      "cell_type": "code",
      "execution_count": null,
      "metadata": {
        "id": "Pj8ZH6FAut1c"
      },
      "outputs": [],
      "source": [
        "X = Flatten()(base_model.output)\n",
        "X = Dense (units = 38,activation = 'softmax')(X)\n",
        "\n",
        "model = Model(base_model.input,X)"
      ]
    },
    {
      "cell_type": "code",
      "execution_count": null,
      "metadata": {
        "id": "t5sWaZACu1uo"
      },
      "outputs": [],
      "source": [
        "model.summary()"
      ]
    },
    {
      "cell_type": "code",
      "execution_count": null,
      "metadata": {
        "id": "tpyHodXTu3df"
      },
      "outputs": [],
      "source": [
        "model.compile(optimizer='adam',loss= keras.losses.categorical_crossentropy,metrics=['accuracy'])"
      ]
    },
    {
      "cell_type": "code",
      "execution_count": null,
      "metadata": {
        "id": "nlZOUWaCu4pV"
      },
      "outputs": [],
      "source": [
        "from keras.callbacks import ModelCheckpoint, EarlyStopping\n",
        "#early stopping\n",
        "es= EarlyStopping(monitor = 'val_accuracy', min_delta = 0.01 , patience = 10, verbose = 1)\n",
        "#Model Checkpoint\n",
        "mc = ModelCheckpoint ( filepath=\" best_model.h5\",\n",
        "                      monitor='val_accuracy',\n",
        "                      min_delta=0.01,\n",
        "                      patience=10,\n",
        "                      verbose=1,\n",
        "                      save_best_only= True)\n",
        "cb = [ es, mc]\n",
        "\n"
      ]
    },
    {
      "cell_type": "code",
      "execution_count": null,
      "metadata": {
        "id": "fml8tjsHu6AU"
      },
      "outputs": [],
      "source": [
        "his = model.fit_generator(train ,\n",
        "                          steps_per_epoch=16,\n",
        "                          epochs=40,\n",
        "                          verbose=1,\n",
        "                          callbacks=cb,\n",
        "                          validation_data=val,\n",
        "                          validation_steps=16 )"
      ]
    },
    {
      "cell_type": "code",
      "execution_count": null,
      "metadata": {
        "id": "73wZSWuvvAoQ"
      },
      "outputs": [],
      "source": [
        "h= his.history\n",
        "h.keys()\n"
      ]
    },
    {
      "cell_type": "code",
      "execution_count": null,
      "metadata": {
        "id": "R72TLbqFvCuW"
      },
      "outputs": [],
      "source": [
        "plt.plot(h['accuracy'])\n",
        "plt.plot(h['val_accuracy'], c = \"red\")\n",
        "\n",
        "plt.title(\"acc vs v-acc\")\n",
        "plt.show()"
      ]
    },
    {
      "cell_type": "code",
      "execution_count": null,
      "metadata": {
        "id": "cfWBR4qqvD17"
      },
      "outputs": [],
      "source": [
        "plt.plot(h['loss'])\n",
        "plt.plot(h['val_loss'], c = \"red\")\n",
        "\n",
        "plt.title(\"loss vs v-loss\")\n",
        "plt.show()"
      ]
    },
    {
      "cell_type": "code",
      "execution_count": null,
      "metadata": {
        "id": "FnMfHTfFvF2E"
      },
      "outputs": [],
      "source": [
        "from google.colab import files\n",
        "model_json=model.to_json()\n",
        "with open(\"model1.json\",\"w\") as json_file:\n",
        "  json_file.write(model_json)\n",
        "  #serialize weights to HDF5\n",
        "  model.save_weights(\"my_model_weights.h5\")\n",
        "  files.download(\"my_model_weights.h5\")\n",
        "  model.save(\"best_model.h5\")\n",
        "  files.download(\"best_model.h5\")\n",
        "  print(\"saved model to disk\")"
      ]
    },
    {
      "cell_type": "code",
      "execution_count": null,
      "metadata": {
        "id": "-rK5QIFAvHFO"
      },
      "outputs": [],
      "source": [
        "acc = model.evaluate_generator(val)[1]\n",
        "print(f\"The accuracy of your model is = {acc*100} %\")"
      ]
    },
    {
      "cell_type": "code",
      "execution_count": null,
      "metadata": {
        "id": "bqU2ZwXzvLlL"
      },
      "outputs": [],
      "source": [
        "ref=dict(zip(list(train.class_indices.values()), list(train.class_indices.keys()) ))"
      ]
    },
    {
      "cell_type": "code",
      "execution_count": null,
      "metadata": {
        "id": "MpN2Dfw2vNCJ"
      },
      "outputs": [],
      "source": [
        "\n",
        "def prediction(path):\n",
        "  img = load_img(path,target_size = (256,256))\n",
        "  i= img_to_array(img)\n",
        "  cv2.imwrite('Image_from_array.jpg', i)\n",
        "  im = preprocess_input(i)\n",
        "  print(\"\\ndimensions of preprocessed array : \",i.shape)\n",
        "  cv2.imwrite('preprocess.jpg', im)\n",
        "  img = np.expand_dims(im,axis=0)\n",
        "  print(\"\\ndimensions of expanded array : \",img.shape)\n",
        "  x=model.predict(img)\n",
        "  print(\"\\n\",x)\n",
        "  pred =np.argmax(x)\n",
        "  print(\"\\n\",pred)\n",
        "  print(f\"\\n\\nThe leaf with disease of { ref[pred] }\")"
      ]
    },
    {
      "cell_type": "code",
      "execution_count": null,
      "metadata": {
        "id": "Sn7PuTPgvOFU"
      },
      "outputs": [],
      "source": [
        "path = \"/content/New Plant Diseases Dataset(Augmented)/New Plant Diseases Dataset(Augmented)/train/Apple___healthy/00907d8b-6ae6-4306-bfd7-d54471981a86___RS_HL 5709_flipTB.JPG\"\n",
        "img = mpimg.imread(path)\n",
        "imgplot = plt.imshow(img)\n",
        "plt.show()\n",
        "prediction(path)"
      ]
    }
  ],
  "metadata": {
    "accelerator": "GPU",
    "colab": {
      "provenance": [],
      "toc_visible": true
    },
    "kernelspec": {
      "display_name": "Python 3",
      "name": "python3"
    },
    "language_info": {
      "name": "python"
    }
  },
  "nbformat": 4,
  "nbformat_minor": 0
}